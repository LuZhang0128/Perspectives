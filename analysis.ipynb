{
  "cells": [
    {
      "cell_type": "markdown",
      "metadata": {
        "id": "view-in-github",
        "colab_type": "text"
      },
      "source": [
        "<a href=\"https://colab.research.google.com/github/LuZhang0128/Perspectives/blob/main/analysis.ipynb\" target=\"_parent\"><img src=\"https://colab.research.google.com/assets/colab-badge.svg\" alt=\"Open In Colab\"/></a>"
      ]
    },
    {
      "cell_type": "markdown",
      "metadata": {
        "id": "k-PtZBFCaQEJ"
      },
      "source": [
        "# Import Packages"
      ]
    },
    {
      "cell_type": "code",
      "execution_count": null,
      "metadata": {
        "id": "d6yG15rVaQEJ",
        "colab": {
          "base_uri": "https://localhost:8080/"
        },
        "outputId": "137adf66-76cd-4082-a5db-e524650286f7"
      },
      "outputs": [
        {
          "output_type": "stream",
          "name": "stdout",
          "text": [
            "[nltk_data] Downloading package punkt to /root/nltk_data...\n",
            "[nltk_data]   Package punkt is already up-to-date!\n"
          ]
        }
      ],
      "source": [
        "!pip install -U git+http://github.com/UChicago-Computational-Content-Analysis/lucem_illud.git --quiet\n",
        "!pip install NRCLex --quiet\n",
        "!pip install -U kaleido --quiet\n",
        "!pip install transformers --quiet\n",
        "!pip install imbalanced-learn --quiet\n",
        "import imblearn\n",
        "import pandas as pd\n",
        "import re\n",
        "import nltk\n",
        "nltk.download('punkt')\n",
        "import matplotlib.pyplot as plt\n",
        "import matplotlib.patches as mpatches\n",
        "import wordcloud\n",
        "import spacy\n",
        "import gensim\n",
        "import numpy as np \n",
        "import seaborn as sns\n",
        "import sklearn.metrics.pairwise \n",
        "import sklearn.manifold \n",
        "import sklearn.decomposition \n",
        "import lucem_illud\n",
        "import datetime as dt\n",
        "import pandas as pd\n",
        "import lucem_illud\n",
        "import math\n",
        "import sklearn.feature_extraction.text\n",
        "import sklearn.feature_extraction\n",
        "from sklearn.metrics import plot_confusion_matrix, plot_roc_curve\n",
        "import matplotlib.pyplot as plt\n",
        "import gensim\n",
        "import wordcloud\n",
        "from lucem_illud.processing import normalizeTokens, trainTestSplit, word_tokenize, sent_tokenize\n",
        "from nrclex import NRCLex\n",
        "from transformers import AutoModelForSequenceClassification\n",
        "from transformers import TFAutoModelForSequenceClassification\n",
        "from transformers import AutoTokenizer\n",
        "from scipy.special import softmax\n",
        "import csv\n",
        "import urllib.request\n",
        "# import plotly.express as px\n",
        "\n",
        "%matplotlib inline"
      ]
    },
    {
      "cell_type": "markdown",
      "metadata": {
        "id": "402VsCYoaQEK"
      },
      "source": [
        "# Load and Clean Data\n",
        "Here I've collaborated with my friend and have written a scraper for Twitter data. However, it only randomly send back a certain amount of Tweets per day every time I try to make request through the code. Here for this class project, I just used one output file, and can expand the scale by running the program multiple times. "
      ]
    },
    {
      "cell_type": "code",
      "source": [
        "from google.colab import drive\n",
        "drive.mount(\"/content/drive\")"
      ],
      "metadata": {
        "id": "lnOVsNhysvyI",
        "colab": {
          "base_uri": "https://localhost:8080/"
        },
        "outputId": "f49722a9-081f-4d3a-938c-6c2da0b96e1b"
      },
      "execution_count": null,
      "outputs": [
        {
          "output_type": "stream",
          "name": "stdout",
          "text": [
            "Drive already mounted at /content/drive; to attempt to forcibly remount, call drive.mount(\"/content/drive\", force_remount=True).\n"
          ]
        }
      ]
    },
    {
      "cell_type": "code",
      "execution_count": null,
      "metadata": {
        "id": "246AeQfEaQEK"
      },
      "outputs": [],
      "source": [
        "# read in data from several different requests\n",
        "df1 = pd.read_csv('/content/drive/MyDrive/Perspectives/data/twitter_info_reply1.csv')\n",
        "df = df1.drop_duplicates().reset_index(drop=True)"
      ]
    },
    {
      "cell_type": "code",
      "execution_count": null,
      "metadata": {
        "id": "Dr4iCNJNaQEL"
      },
      "outputs": [],
      "source": [
        "# remove urls and uninformative information like websites and '@'s\n",
        "cleaned_text = []\n",
        "for row in df['m_content']:\n",
        "    text = str(row)\n",
        "    text = re.sub(r'https?://\\S+|www\\.\\S+', '', text, flags=re.MULTILINE)\n",
        "    text = re.sub(r'\\B[@]\\S+\\b', '', text)\n",
        "    cleaned_text.append(text)\n",
        "\n",
        "df['text'] = cleaned_text\n",
        "df['g_publish_time']= pd.to_datetime(df['g_publish_time'])\n",
        "df = df.dropna(subset=['text'])"
      ]
    },
    {
      "cell_type": "code",
      "execution_count": null,
      "metadata": {
        "id": "ea1aU6LvaQEM",
        "colab": {
          "base_uri": "https://localhost:8080/",
          "height": 410
        },
        "outputId": "19efaa5a-341c-4307-b60c-c488c2f94a5a"
      },
      "outputs": [
        {
          "output_type": "stream",
          "name": "stdout",
          "text": [
            "123517\n"
          ]
        },
        {
          "output_type": "execute_result",
          "data": {
            "text/plain": [
              "                                           m_content  \\\n",
              "0    http://twitpic.com/gh4w - Wolf-dieter ring #blm   \n",
              "1  http://twitpic.com/gh3o - Hier @presseschauer ...   \n",
              "2  @furukama the leagel dabate on trust and commu...   \n",
              "3        http://twitpic.com/gno2 - Noshow-tisch #blm   \n",
              "4              http://twitpic.com/gno6 - Buffet #blm   \n",
              "\n",
              "                                 m_content_url  m_content_id m_images  \\\n",
              "0  https://twitter.com/jbenno/status/962079197     962079197      NaN   \n",
              "1  https://twitter.com/jbenno/status/962066767     962066767      NaN   \n",
              "2  https://twitter.com/jbenno/status/962226263     962226263      NaN   \n",
              "3  https://twitter.com/jbenno/status/963782003     963782003      NaN   \n",
              "4  https://twitter.com/jbenno/status/963782458     963782458      NaN   \n",
              "\n",
              "  m_videos  r_comment_num g_publish_time  r_like_num  r_trans_num      u_id  \\\n",
              "0      NaN              0     2008-10-16           0            0  10177792   \n",
              "1      NaN              0     2008-10-16           0            0  10177792   \n",
              "2      NaN              0     2008-10-16           0            0  10177792   \n",
              "3      NaN              0     2008-10-17           0            0  10177792   \n",
              "4      NaN              0     2008-10-17           0            0  10177792   \n",
              "\n",
              "  keyword in_reply_to_screen_name in_reply_to_status_id       u_nickname  \\\n",
              "0     BLM                     NaN                  None  Joerg Blumtritt   \n",
              "1     BLM                     NaN                  None  Joerg Blumtritt   \n",
              "2     BLM                furukama             962226263  Joerg Blumtritt   \n",
              "3     BLM                     NaN                  None  Joerg Blumtritt   \n",
              "4     BLM                     NaN                  None  Joerg Blumtritt   \n",
              "\n",
              "      u_area screen_name                                               text  \n",
              "0  Abu Dhabi      jbenno                            - Wolf-dieter ring #blm  \n",
              "1  Abu Dhabi      jbenno                                  - Hier  und  #blm  \n",
              "2  Abu Dhabi      jbenno   the leagel dabate on trust and communications...  \n",
              "3  Abu Dhabi      jbenno                                - Noshow-tisch #blm  \n",
              "4  Abu Dhabi      jbenno                                      - Buffet #blm  "
            ],
            "text/html": [
              "\n",
              "  <div id=\"df-cd035d20-91c5-4701-abb9-1eef657aee83\">\n",
              "    <div class=\"colab-df-container\">\n",
              "      <div>\n",
              "<style scoped>\n",
              "    .dataframe tbody tr th:only-of-type {\n",
              "        vertical-align: middle;\n",
              "    }\n",
              "\n",
              "    .dataframe tbody tr th {\n",
              "        vertical-align: top;\n",
              "    }\n",
              "\n",
              "    .dataframe thead th {\n",
              "        text-align: right;\n",
              "    }\n",
              "</style>\n",
              "<table border=\"1\" class=\"dataframe\">\n",
              "  <thead>\n",
              "    <tr style=\"text-align: right;\">\n",
              "      <th></th>\n",
              "      <th>m_content</th>\n",
              "      <th>m_content_url</th>\n",
              "      <th>m_content_id</th>\n",
              "      <th>m_images</th>\n",
              "      <th>m_videos</th>\n",
              "      <th>r_comment_num</th>\n",
              "      <th>g_publish_time</th>\n",
              "      <th>r_like_num</th>\n",
              "      <th>r_trans_num</th>\n",
              "      <th>u_id</th>\n",
              "      <th>keyword</th>\n",
              "      <th>in_reply_to_screen_name</th>\n",
              "      <th>in_reply_to_status_id</th>\n",
              "      <th>u_nickname</th>\n",
              "      <th>u_area</th>\n",
              "      <th>screen_name</th>\n",
              "      <th>text</th>\n",
              "    </tr>\n",
              "  </thead>\n",
              "  <tbody>\n",
              "    <tr>\n",
              "      <th>0</th>\n",
              "      <td>http://twitpic.com/gh4w - Wolf-dieter ring #blm</td>\n",
              "      <td>https://twitter.com/jbenno/status/962079197</td>\n",
              "      <td>962079197</td>\n",
              "      <td>NaN</td>\n",
              "      <td>NaN</td>\n",
              "      <td>0</td>\n",
              "      <td>2008-10-16</td>\n",
              "      <td>0</td>\n",
              "      <td>0</td>\n",
              "      <td>10177792</td>\n",
              "      <td>BLM</td>\n",
              "      <td>NaN</td>\n",
              "      <td>None</td>\n",
              "      <td>Joerg Blumtritt</td>\n",
              "      <td>Abu Dhabi</td>\n",
              "      <td>jbenno</td>\n",
              "      <td>- Wolf-dieter ring #blm</td>\n",
              "    </tr>\n",
              "    <tr>\n",
              "      <th>1</th>\n",
              "      <td>http://twitpic.com/gh3o - Hier @presseschauer ...</td>\n",
              "      <td>https://twitter.com/jbenno/status/962066767</td>\n",
              "      <td>962066767</td>\n",
              "      <td>NaN</td>\n",
              "      <td>NaN</td>\n",
              "      <td>0</td>\n",
              "      <td>2008-10-16</td>\n",
              "      <td>0</td>\n",
              "      <td>0</td>\n",
              "      <td>10177792</td>\n",
              "      <td>BLM</td>\n",
              "      <td>NaN</td>\n",
              "      <td>None</td>\n",
              "      <td>Joerg Blumtritt</td>\n",
              "      <td>Abu Dhabi</td>\n",
              "      <td>jbenno</td>\n",
              "      <td>- Hier  und  #blm</td>\n",
              "    </tr>\n",
              "    <tr>\n",
              "      <th>2</th>\n",
              "      <td>@furukama the leagel dabate on trust and commu...</td>\n",
              "      <td>https://twitter.com/jbenno/status/962226263</td>\n",
              "      <td>962226263</td>\n",
              "      <td>NaN</td>\n",
              "      <td>NaN</td>\n",
              "      <td>0</td>\n",
              "      <td>2008-10-16</td>\n",
              "      <td>0</td>\n",
              "      <td>0</td>\n",
              "      <td>10177792</td>\n",
              "      <td>BLM</td>\n",
              "      <td>furukama</td>\n",
              "      <td>962226263</td>\n",
              "      <td>Joerg Blumtritt</td>\n",
              "      <td>Abu Dhabi</td>\n",
              "      <td>jbenno</td>\n",
              "      <td>the leagel dabate on trust and communications...</td>\n",
              "    </tr>\n",
              "    <tr>\n",
              "      <th>3</th>\n",
              "      <td>http://twitpic.com/gno2 - Noshow-tisch #blm</td>\n",
              "      <td>https://twitter.com/jbenno/status/963782003</td>\n",
              "      <td>963782003</td>\n",
              "      <td>NaN</td>\n",
              "      <td>NaN</td>\n",
              "      <td>0</td>\n",
              "      <td>2008-10-17</td>\n",
              "      <td>0</td>\n",
              "      <td>0</td>\n",
              "      <td>10177792</td>\n",
              "      <td>BLM</td>\n",
              "      <td>NaN</td>\n",
              "      <td>None</td>\n",
              "      <td>Joerg Blumtritt</td>\n",
              "      <td>Abu Dhabi</td>\n",
              "      <td>jbenno</td>\n",
              "      <td>- Noshow-tisch #blm</td>\n",
              "    </tr>\n",
              "    <tr>\n",
              "      <th>4</th>\n",
              "      <td>http://twitpic.com/gno6 - Buffet #blm</td>\n",
              "      <td>https://twitter.com/jbenno/status/963782458</td>\n",
              "      <td>963782458</td>\n",
              "      <td>NaN</td>\n",
              "      <td>NaN</td>\n",
              "      <td>0</td>\n",
              "      <td>2008-10-17</td>\n",
              "      <td>0</td>\n",
              "      <td>0</td>\n",
              "      <td>10177792</td>\n",
              "      <td>BLM</td>\n",
              "      <td>NaN</td>\n",
              "      <td>None</td>\n",
              "      <td>Joerg Blumtritt</td>\n",
              "      <td>Abu Dhabi</td>\n",
              "      <td>jbenno</td>\n",
              "      <td>- Buffet #blm</td>\n",
              "    </tr>\n",
              "  </tbody>\n",
              "</table>\n",
              "</div>\n",
              "      <button class=\"colab-df-convert\" onclick=\"convertToInteractive('df-cd035d20-91c5-4701-abb9-1eef657aee83')\"\n",
              "              title=\"Convert this dataframe to an interactive table.\"\n",
              "              style=\"display:none;\">\n",
              "        \n",
              "  <svg xmlns=\"http://www.w3.org/2000/svg\" height=\"24px\"viewBox=\"0 0 24 24\"\n",
              "       width=\"24px\">\n",
              "    <path d=\"M0 0h24v24H0V0z\" fill=\"none\"/>\n",
              "    <path d=\"M18.56 5.44l.94 2.06.94-2.06 2.06-.94-2.06-.94-.94-2.06-.94 2.06-2.06.94zm-11 1L8.5 8.5l.94-2.06 2.06-.94-2.06-.94L8.5 2.5l-.94 2.06-2.06.94zm10 10l.94 2.06.94-2.06 2.06-.94-2.06-.94-.94-2.06-.94 2.06-2.06.94z\"/><path d=\"M17.41 7.96l-1.37-1.37c-.4-.4-.92-.59-1.43-.59-.52 0-1.04.2-1.43.59L10.3 9.45l-7.72 7.72c-.78.78-.78 2.05 0 2.83L4 21.41c.39.39.9.59 1.41.59.51 0 1.02-.2 1.41-.59l7.78-7.78 2.81-2.81c.8-.78.8-2.07 0-2.86zM5.41 20L4 18.59l7.72-7.72 1.47 1.35L5.41 20z\"/>\n",
              "  </svg>\n",
              "      </button>\n",
              "      \n",
              "  <style>\n",
              "    .colab-df-container {\n",
              "      display:flex;\n",
              "      flex-wrap:wrap;\n",
              "      gap: 12px;\n",
              "    }\n",
              "\n",
              "    .colab-df-convert {\n",
              "      background-color: #E8F0FE;\n",
              "      border: none;\n",
              "      border-radius: 50%;\n",
              "      cursor: pointer;\n",
              "      display: none;\n",
              "      fill: #1967D2;\n",
              "      height: 32px;\n",
              "      padding: 0 0 0 0;\n",
              "      width: 32px;\n",
              "    }\n",
              "\n",
              "    .colab-df-convert:hover {\n",
              "      background-color: #E2EBFA;\n",
              "      box-shadow: 0px 1px 2px rgba(60, 64, 67, 0.3), 0px 1px 3px 1px rgba(60, 64, 67, 0.15);\n",
              "      fill: #174EA6;\n",
              "    }\n",
              "\n",
              "    [theme=dark] .colab-df-convert {\n",
              "      background-color: #3B4455;\n",
              "      fill: #D2E3FC;\n",
              "    }\n",
              "\n",
              "    [theme=dark] .colab-df-convert:hover {\n",
              "      background-color: #434B5C;\n",
              "      box-shadow: 0px 1px 3px 1px rgba(0, 0, 0, 0.15);\n",
              "      filter: drop-shadow(0px 1px 2px rgba(0, 0, 0, 0.3));\n",
              "      fill: #FFFFFF;\n",
              "    }\n",
              "  </style>\n",
              "\n",
              "      <script>\n",
              "        const buttonEl =\n",
              "          document.querySelector('#df-cd035d20-91c5-4701-abb9-1eef657aee83 button.colab-df-convert');\n",
              "        buttonEl.style.display =\n",
              "          google.colab.kernel.accessAllowed ? 'block' : 'none';\n",
              "\n",
              "        async function convertToInteractive(key) {\n",
              "          const element = document.querySelector('#df-cd035d20-91c5-4701-abb9-1eef657aee83');\n",
              "          const dataTable =\n",
              "            await google.colab.kernel.invokeFunction('convertToInteractive',\n",
              "                                                     [key], {});\n",
              "          if (!dataTable) return;\n",
              "\n",
              "          const docLinkHtml = 'Like what you see? Visit the ' +\n",
              "            '<a target=\"_blank\" href=https://colab.research.google.com/notebooks/data_table.ipynb>data table notebook</a>'\n",
              "            + ' to learn more about interactive tables.';\n",
              "          element.innerHTML = '';\n",
              "          dataTable['output_type'] = 'display_data';\n",
              "          await google.colab.output.renderOutput(dataTable, element);\n",
              "          const docLink = document.createElement('div');\n",
              "          docLink.innerHTML = docLinkHtml;\n",
              "          element.appendChild(docLink);\n",
              "        }\n",
              "      </script>\n",
              "    </div>\n",
              "  </div>\n",
              "  "
            ]
          },
          "metadata": {},
          "execution_count": 11
        }
      ],
      "source": [
        "print(len(df))\n",
        "df.head()"
      ]
    },
    {
      "cell_type": "code",
      "source": [
        "# split the data to before the event and after the event\n",
        "# before is 0 and after is 1\n",
        "before = []\n",
        "for i in df.iloc:\n",
        "  # print(i.g_publish_time)\n",
        "  # print(i.g_publish_time < pd.to_datetime('2020-05-25'))\n",
        "  if i.g_publish_time < pd.to_datetime('2020-05-25'):\n",
        "    before.append(0)\n",
        "  else:\n",
        "    before.append(1)\n",
        "\n",
        "df['target'] = before"
      ],
      "metadata": {
        "id": "HVMD2emhwLJU"
      },
      "execution_count": null,
      "outputs": []
    },
    {
      "cell_type": "code",
      "source": [
        "# create tokens for future use\n",
        "df['tokenized_text'] = df['text'].apply(lambda x: word_tokenize(x))\n",
        "df['normalized_text'] = df['tokenized_text'].apply(lambda x: normalizeTokens(x))"
      ],
      "metadata": {
        "id": "Z4intGvRxr5y"
      },
      "execution_count": null,
      "outputs": []
    },
    {
      "cell_type": "code",
      "source": [
        "df['tokenized_sents'] = df['text'].apply(lambda x: [word_tokenize(s) for s in sent_tokenize(x)])\n",
        "df['normalized_sents'] = df['tokenized_sents'].apply(lambda x: [normalizeTokens(s) for s in x])"
      ],
      "metadata": {
        "id": "PLlJVQ7tGuGT"
      },
      "execution_count": null,
      "outputs": []
    },
    {
      "cell_type": "code",
      "source": [
        "# save the data\n",
        "df.to_csv('/content/drive/MyDrive/Perspectives/df.csv')\n",
        "df.to_pickle('/content/drive/MyDrive/Perspectives/df.pkl')"
      ],
      "metadata": {
        "id": "M7-Z3u9-zybE"
      },
      "execution_count": null,
      "outputs": []
    },
    {
      "cell_type": "code",
      "source": [
        "# read in the data\n",
        "df = pd.read_csv('/content/drive/MyDrive/BLM_data/df.csv')"
      ],
      "metadata": {
        "id": "t7bj4xkwv7Mc"
      },
      "execution_count": null,
      "outputs": []
    },
    {
      "cell_type": "markdown",
      "metadata": {
        "id": "EYkPCcePaQEM"
      },
      "source": [
        "# Basic Plots"
      ]
    },
    {
      "cell_type": "code",
      "execution_count": null,
      "metadata": {
        "id": "rOunqhqsaQEM"
      },
      "outputs": [],
      "source": [
        "# number of posts per day\n",
        "df_gb = df.groupby(['g_publish_time']).size()\n",
        "\n",
        "plt.figure(figsize=(10,5))\n",
        "plt.plot(df_gb, 'o',label=\"Number of Posts\", markersize=1, linewidth=0.1)\n",
        "plt.xticks(rotation=90)\n",
        "plt.title(\"Number of Posts per day\")\n",
        "plt.legend()\n",
        "plt.show()"
      ]
    },
    {
      "cell_type": "markdown",
      "source": [
        "## Word Cloud"
      ],
      "metadata": {
        "id": "kBwsd_8NaqEw"
      }
    },
    {
      "cell_type": "code",
      "execution_count": null,
      "metadata": {
        "id": "FqloMMzDaQEN"
      },
      "outputs": [],
      "source": [
        "# overall word cloud\n",
        "wc = wordcloud.WordCloud(background_color=\"white\", max_words=500, width=3000, height=2000, mode='RGBA', collocations=False, scale=.5).generate(' '.join(df['normalized_text'].sum()))\n",
        "plt.imshow(wc)\n",
        "plt.axis(\"off\")\n",
        "plt.savefig(\"#BLM Tweets.pdf\", format = 'pdf')"
      ]
    },
    {
      "cell_type": "code",
      "source": [
        "# create seperate dataset for before and after the event\n",
        "df_before = df[df[\"target\"]==0]\n",
        "df_after = df[df[\"target\"]==1]"
      ],
      "metadata": {
        "id": "qEo5-kyhSE6O"
      },
      "execution_count": null,
      "outputs": []
    },
    {
      "cell_type": "code",
      "source": [
        "# word cloud before the event\n",
        "wc = wordcloud.WordCloud(background_color=\"white\", max_words=500, width=3000, height=2000, mode='RGBA', collocations=False, scale=.5).generate(' '.join(df_before['normalized_text'].sum()))\n",
        "plt.imshow(wc)\n",
        "plt.axis(\"off\")\n",
        "plt.savefig(\"#BLM Tweets before 2020-05-25.pdf\", format = 'pdf')"
      ],
      "metadata": {
        "id": "8C-02fWwX7gs"
      },
      "execution_count": null,
      "outputs": []
    },
    {
      "cell_type": "code",
      "source": [
        "# word cloud after the event\n",
        "wc = wordcloud.WordCloud(background_color=\"white\", max_words=500, width=3000, height=2000, mode='RGBA', collocations=False, scale=.5).generate(' '.join(df_after['normalized_text'].sum()))\n",
        "plt.imshow(wc)\n",
        "plt.axis(\"off\")\n",
        "plt.savefig(\"#BLM Tweets after 2020-05-25.pdf\", format = 'pdf')"
      ],
      "metadata": {
        "id": "5qlsvQ9yYWAi"
      },
      "execution_count": null,
      "outputs": []
    },
    {
      "cell_type": "markdown",
      "source": [
        "# Pre-trained BERT model for Emotion Classification"
      ],
      "metadata": {
        "id": "aB63wPNWuo_f"
      }
    },
    {
      "cell_type": "code",
      "source": [
        "def preprocess(text):\n",
        "    new_text = []\n",
        "    for t in text.split(\" \"):\n",
        "        t = '@user' if t.startswith('@') and len(t) > 1 else t\n",
        "        t = 'http' if t.startswith('http') else t\n",
        "        new_text.append(t)\n",
        "    return \" \".join(new_text)"
      ],
      "metadata": {
        "id": "F3N0MbxFuvVK"
      },
      "execution_count": null,
      "outputs": []
    },
    {
      "cell_type": "code",
      "source": [
        "# Tasks:\n",
        "# emoji, emotion, hate, irony, offensive, sentiment\n",
        "# stance/abortion, stance/atheism, stance/climate, stance/feminist, stance/hillary\n",
        "\n",
        "task='emotion'\n",
        "MODEL = f\"cardiffnlp/twitter-roberta-base-{task}\"\n",
        "\n",
        "tokenizer = AutoTokenizer.from_pretrained(MODEL)\n",
        "\n",
        "# download label mapping\n",
        "mapping_link = f\"https://raw.githubusercontent.com/cardiffnlp/tweeteval/main/datasets/{task}/mapping.txt\"\n",
        "with urllib.request.urlopen(mapping_link) as f:\n",
        "    html = f.read().decode('utf-8').split(\"\\n\")\n",
        "    csvreader = csv.reader(html, delimiter='\\t')\n",
        "labels = [row[1] for row in csvreader if len(row) > 1]\n",
        "\n",
        "# PT\n",
        "model = AutoModelForSequenceClassification.from_pretrained(MODEL)\n",
        "model.save_pretrained(MODEL)"
      ],
      "metadata": {
        "id": "cNtQv_kSyohN"
      },
      "execution_count": null,
      "outputs": []
    },
    {
      "cell_type": "code",
      "source": [
        "from scipy.special.orthogonal import jacobi\n",
        "sent = df['text']\n",
        "\n",
        "joy = []\n",
        "optimism = []\n",
        "anger = []\n",
        "sadness = []\n",
        "\n",
        "# j = 0\n",
        "\n",
        "for sent_text in sent:\n",
        "  # print(j)\n",
        "  sent_text = preprocess(sent_text)\n",
        "  encoded_input = tokenizer(sent_text, return_tensors='pt')\n",
        "  output = model(**encoded_input)\n",
        "  scores = output[0][0].detach().numpy()\n",
        "  scores = softmax(scores)  \n",
        "\n",
        "  ranking = np.argsort(scores)\n",
        "  ranking = ranking[::-1]\n",
        "  for i in range(scores.shape[0]):\n",
        "      l = labels[ranking[i]]\n",
        "      s = scores[ranking[i]]\n",
        "\n",
        "      if l=='joy':\n",
        "        joy.append(s)\n",
        "      elif l=='optimism':\n",
        "        optimism.append(s)\n",
        "      elif l=='anger':\n",
        "        anger.append(s)\n",
        "      elif l=='sadness':\n",
        "        sadness.append(s)\n",
        "\n",
        "  # j += 1"
      ],
      "metadata": {
        "id": "VHlUPKw37FD7"
      },
      "execution_count": null,
      "outputs": []
    },
    {
      "cell_type": "code",
      "source": [
        "df['joy'] = joy\n",
        "df['optimism'] = optimism\n",
        "df['anger'] = anger\n",
        "df['sadness'] = sadness"
      ],
      "metadata": {
        "id": "RLGuxzlyCIZs"
      },
      "execution_count": null,
      "outputs": []
    },
    {
      "cell_type": "code",
      "source": [
        "# save the data\n",
        "# df.to_csv('/content/drive/MyDrive/Perspectives/df_emotion.csv')\n",
        "# df.to_pickle('/content/drive/MyDrive/Perspectives/df_emotion.pkl')"
      ],
      "metadata": {
        "id": "Bv_HrxoDEugD"
      },
      "execution_count": null,
      "outputs": []
    },
    {
      "cell_type": "code",
      "source": [
        "df = pd.read_pickle('/content/drive/MyDrive/Perspectives/df_emotion.pkl')"
      ],
      "metadata": {
        "id": "CShdS72YR-jZ"
      },
      "execution_count": null,
      "outputs": []
    },
    {
      "cell_type": "code",
      "source": [
        "mean_joy = df.groupby('g_publish_time')['joy'].mean().reset_index()\n",
        "mean_optimism = df.groupby('g_publish_time')['optimism'].mean().reset_index()\n",
        "mean_anger = df.groupby('g_publish_time')['anger'].mean().reset_index()\n",
        "mean_sadness = df.groupby('g_publish_time')['sadness'].mean().reset_index()"
      ],
      "metadata": {
        "id": "txse6UMMEFQk"
      },
      "execution_count": null,
      "outputs": []
    },
    {
      "cell_type": "code",
      "source": [
        "mean_joy.loc[mean_joy['g_publish_time'] == '2016-01-01']"
      ],
      "metadata": {
        "id": "Iw9nuydlN8nf"
      },
      "execution_count": null,
      "outputs": []
    },
    {
      "cell_type": "code",
      "source": [
        "mean_joy.loc[mean_joy['g_publish_time'] == '2020-05-25']"
      ],
      "metadata": {
        "id": "sztX9i6yU1AA"
      },
      "execution_count": null,
      "outputs": []
    },
    {
      "cell_type": "code",
      "source": [
        "# plot average joy score with low alpha value\n",
        "plt.scatter(mean_joy['g_publish_time'], mean_joy['joy'], c = 'grey', alpha = 0.05)\n",
        "\n",
        "# convert date to numerical values\n",
        "mean_joy['g_publish_time'] = pd.to_datetime(mean_joy['g_publish_time'])\n",
        "mean_joy['g_publish_time']=mean_joy['g_publish_time'].map(dt.datetime.toordinal)\n",
        "\n",
        "# linear regression before and after the event\n",
        "x1 = mean_joy['g_publish_time'][2269:3875]\n",
        "y1 = mean_joy['joy'][2269:3875]\n",
        "m1,b1 = np.polyfit(x1, y1, 1)\n",
        "plt.plot(x1, m1*x1 + b1,'--', label='2016/01/01 - Event', linewidth=2, c = 'tab:blue')\n",
        "\n",
        "from sklearn.metrics import r2_score\n",
        "print(r2_score(y1, m1*x1+b1))\n",
        "\n",
        "x2 = mean_joy['g_publish_time'][3875:]\n",
        "y2 = mean_joy['joy'][3875:]\n",
        "m2,b2 = np.polyfit(x2, y2, 1)\n",
        "plt.plot(x2, m2*x2 + b2,'--', label='Event - 2022/02/15', linewidth=2, c = 'tab:orange')\n",
        "\n",
        "print(r2_score(y2, m2*x2+b2))\n",
        "\n",
        "# plot\n",
        "plt.xlabel(\"Date\")\n",
        "plt.ylabel(\"Average Joy Score\")\n",
        "plt.legend(loc = 'upper right')\n",
        "plt.title('Average Joy Score per Day',fontweight ='bold',size=14)\n",
        "plt.savefig('Average Joy Score per Day')\n",
        "plt.show()\n",
        "\n",
        "print(m1,m2)"
      ],
      "metadata": {
        "id": "JYL0dcrLFsin"
      },
      "execution_count": null,
      "outputs": []
    },
    {
      "cell_type": "code",
      "source": [
        "# plot average optimism score with low alpha value\n",
        "plt.scatter(mean_optimism['g_publish_time'], mean_optimism['optimism'], c = 'grey', alpha = 0.05)\n",
        "\n",
        "# convert date to numerical values\n",
        "mean_optimism['g_publish_time'] = pd.to_datetime(mean_optimism['g_publish_time'])\n",
        "mean_optimism['g_publish_time']=mean_optimism['g_publish_time'].map(dt.datetime.toordinal)\n",
        "\n",
        "# linear regression before and after the event\n",
        "x1 = mean_optimism['g_publish_time'][2269:3875]\n",
        "y1 = mean_optimism['optimism'][2269:3875]\n",
        "m1,b1 = np.polyfit(x1, y1, 1)\n",
        "plt.plot(x1, m1*x1 + b1,'--', label='2016/01/01 - Event', linewidth=2, c = 'tab:blue')\n",
        "\n",
        "x2 = mean_optimism['g_publish_time'][3875:]\n",
        "y2 = mean_optimism['optimism'][3875:]\n",
        "m2,b2 = np.polyfit(x2, y2, 1)\n",
        "plt.plot(x2, m2*x2 + b2,'--', label='Event - 2022/02/15', linewidth=2, c = 'tab:orange')\n",
        "\n",
        "# plot\n",
        "plt.xlabel(\"Date\")\n",
        "plt.ylabel(\"Average Optimism Score\")\n",
        "plt.legend(loc = 'upper right')\n",
        "plt.title('Average Optimism Score per Day',fontweight ='bold',size=14)\n",
        "plt.savefig('Average Optimism Score per Day')\n",
        "plt.show()"
      ],
      "metadata": {
        "id": "VITTEgnSGtwb"
      },
      "execution_count": null,
      "outputs": []
    },
    {
      "cell_type": "code",
      "source": [
        "# plot average anger score with low alpha value\n",
        "plt.scatter(mean_anger['g_publish_time'], mean_anger['anger'], c = 'grey', alpha = 0.05)\n",
        "\n",
        "# convert date to numerical values\n",
        "mean_anger['g_publish_time'] = pd.to_datetime(mean_anger['g_publish_time'])\n",
        "mean_anger['g_publish_time']=mean_anger['g_publish_time'].map(dt.datetime.toordinal)\n",
        "\n",
        "# linear regression before and after the event\n",
        "x1 = mean_anger['g_publish_time'][2269:3875]\n",
        "y1 = mean_anger['anger'][2269:3875]\n",
        "m1,b1 = np.polyfit(x1, y1, 1)\n",
        "plt.plot(x1, m1*x1 + b1,'--', label='2016/01/01 - Event', linewidth=2, c = 'tab:blue')\n",
        "\n",
        "x2 = mean_anger['g_publish_time'][3875:]\n",
        "y2 = mean_anger['anger'][3875:]\n",
        "m2,b2 = np.polyfit(x2, y2, 1)\n",
        "plt.plot(x2, m2*x2 + b2,'--', label='Event - 2022/02/15', linewidth=2, c = 'tab:orange')\n",
        "\n",
        "# plot\n",
        "plt.xlabel(\"Date\")\n",
        "plt.ylabel(\"Average Anger Score\")\n",
        "plt.legend(loc = 'upper right')\n",
        "plt.title('Average Anger Score per Day',fontweight ='bold',size=14)\n",
        "plt.savefig('Average Anger Score per Day')\n",
        "plt.show()"
      ],
      "metadata": {
        "id": "n5IM1ao5G2HN"
      },
      "execution_count": null,
      "outputs": []
    },
    {
      "cell_type": "code",
      "source": [
        "# plot average sadness score with low alpha value\n",
        "plt.scatter(mean_sadness['g_publish_time'], mean_sadness['sadness'], c = 'grey', alpha = 0.05)\n",
        "\n",
        "# convert date to numerical values\n",
        "mean_sadness['g_publish_time'] = pd.to_datetime(mean_sadness['g_publish_time'])\n",
        "mean_sadness['g_publish_time']=mean_sadness['g_publish_time'].map(dt.datetime.toordinal)\n",
        "\n",
        "# linear regression before and after the event\n",
        "x1 = mean_sadness['g_publish_time'][2269:3875]\n",
        "y1 = mean_sadness['sadness'][2269:3875]\n",
        "m1,b1 = np.polyfit(x1, y1, 1)\n",
        "plt.plot(x1, m1*x1 + b1,'--', label='2016/01/01 - Event', linewidth=2, c = 'tab:blue')\n",
        "\n",
        "x2 = mean_sadness['g_publish_time'][3875:]\n",
        "y2 = mean_sadness['sadness'][3875:]\n",
        "m2,b2 = np.polyfit(x2, y2, 1)\n",
        "plt.plot(x2, m2*x2 + b2,'--', label='Event - 2022/02/15', linewidth=2, c = 'tab:orange')\n",
        "\n",
        "# plot\n",
        "plt.xlabel(\"Date\")\n",
        "plt.ylabel(\"Average Sadness Score\")\n",
        "plt.legend(loc = 'upper right')\n",
        "plt.title('Average Sadness Score per Day',fontweight ='bold',size=14)\n",
        "plt.savefig('Average Sadness Score per Day')\n",
        "plt.show()"
      ],
      "metadata": {
        "id": "o9EhuzPGG8eH"
      },
      "execution_count": null,
      "outputs": []
    },
    {
      "cell_type": "code",
      "source": [
        "import pandas as pd\n",
        "import numpy as np\n",
        "from sklearn import datasets, linear_model\n",
        "from sklearn.linear_model import LinearRegression\n",
        "import statsmodels.api as sm\n",
        "from scipy import stats\n",
        "\n",
        "X = x1\n",
        "y = y1\n",
        "\n",
        "X2 = sm.add_constant(X)\n",
        "est = sm.OLS(y, X2)\n",
        "est2 = est.fit()\n",
        "print(est2.summary())"
      ],
      "metadata": {
        "id": "Vxyr9Iyang2E"
      },
      "execution_count": null,
      "outputs": []
    },
    {
      "cell_type": "markdown",
      "source": [
        "# Machine Learning Model\n"
      ],
      "metadata": {
        "id": "ho1DwtRvWVsl"
      }
    },
    {
      "cell_type": "code",
      "source": [
        "# import the manual label of Twitter accounts\n",
        "label = pd.read_csv('Perspectives_Labelling.csv').iloc[:, [0,8]]\n",
        "label = label.loc[label[\"number\"] != -1]"
      ],
      "metadata": {
        "id": "2ckbqUIKcCbT"
      },
      "execution_count": null,
      "outputs": []
    },
    {
      "cell_type": "code",
      "source": [
        "label "
      ],
      "metadata": {
        "colab": {
          "base_uri": "https://localhost:8080/",
          "height": 424
        },
        "id": "P_S7r8eLcwA_",
        "outputId": "64b8352b-20af-419f-feaf-f363b5736aec"
      },
      "execution_count": null,
      "outputs": [
        {
          "output_type": "execute_result",
          "data": {
            "text/plain": [
              "             account  number\n",
              "0             jbenno       4\n",
              "1        keith_bloke       4\n",
              "2    society08085469       4\n",
              "3      ResmaaMenakem       3\n",
              "4         AmyJNobles       3\n",
              "..               ...     ...\n",
              "475           SWPDUB       4\n",
              "476   DiametricSlant       4\n",
              "477   FindingKJMovie       1\n",
              "478        WArthurJ1       3\n",
              "479      aliciagarza       3\n",
              "\n",
              "[450 rows x 2 columns]"
            ],
            "text/html": [
              "\n",
              "  <div id=\"df-3faf8ca6-77b5-453c-8637-8b970a67716d\">\n",
              "    <div class=\"colab-df-container\">\n",
              "      <div>\n",
              "<style scoped>\n",
              "    .dataframe tbody tr th:only-of-type {\n",
              "        vertical-align: middle;\n",
              "    }\n",
              "\n",
              "    .dataframe tbody tr th {\n",
              "        vertical-align: top;\n",
              "    }\n",
              "\n",
              "    .dataframe thead th {\n",
              "        text-align: right;\n",
              "    }\n",
              "</style>\n",
              "<table border=\"1\" class=\"dataframe\">\n",
              "  <thead>\n",
              "    <tr style=\"text-align: right;\">\n",
              "      <th></th>\n",
              "      <th>account</th>\n",
              "      <th>number</th>\n",
              "    </tr>\n",
              "  </thead>\n",
              "  <tbody>\n",
              "    <tr>\n",
              "      <th>0</th>\n",
              "      <td>jbenno</td>\n",
              "      <td>4</td>\n",
              "    </tr>\n",
              "    <tr>\n",
              "      <th>1</th>\n",
              "      <td>keith_bloke</td>\n",
              "      <td>4</td>\n",
              "    </tr>\n",
              "    <tr>\n",
              "      <th>2</th>\n",
              "      <td>society08085469</td>\n",
              "      <td>4</td>\n",
              "    </tr>\n",
              "    <tr>\n",
              "      <th>3</th>\n",
              "      <td>ResmaaMenakem</td>\n",
              "      <td>3</td>\n",
              "    </tr>\n",
              "    <tr>\n",
              "      <th>4</th>\n",
              "      <td>AmyJNobles</td>\n",
              "      <td>3</td>\n",
              "    </tr>\n",
              "    <tr>\n",
              "      <th>...</th>\n",
              "      <td>...</td>\n",
              "      <td>...</td>\n",
              "    </tr>\n",
              "    <tr>\n",
              "      <th>475</th>\n",
              "      <td>SWPDUB</td>\n",
              "      <td>4</td>\n",
              "    </tr>\n",
              "    <tr>\n",
              "      <th>476</th>\n",
              "      <td>DiametricSlant</td>\n",
              "      <td>4</td>\n",
              "    </tr>\n",
              "    <tr>\n",
              "      <th>477</th>\n",
              "      <td>FindingKJMovie</td>\n",
              "      <td>1</td>\n",
              "    </tr>\n",
              "    <tr>\n",
              "      <th>478</th>\n",
              "      <td>WArthurJ1</td>\n",
              "      <td>3</td>\n",
              "    </tr>\n",
              "    <tr>\n",
              "      <th>479</th>\n",
              "      <td>aliciagarza</td>\n",
              "      <td>3</td>\n",
              "    </tr>\n",
              "  </tbody>\n",
              "</table>\n",
              "<p>450 rows × 2 columns</p>\n",
              "</div>\n",
              "      <button class=\"colab-df-convert\" onclick=\"convertToInteractive('df-3faf8ca6-77b5-453c-8637-8b970a67716d')\"\n",
              "              title=\"Convert this dataframe to an interactive table.\"\n",
              "              style=\"display:none;\">\n",
              "        \n",
              "  <svg xmlns=\"http://www.w3.org/2000/svg\" height=\"24px\"viewBox=\"0 0 24 24\"\n",
              "       width=\"24px\">\n",
              "    <path d=\"M0 0h24v24H0V0z\" fill=\"none\"/>\n",
              "    <path d=\"M18.56 5.44l.94 2.06.94-2.06 2.06-.94-2.06-.94-.94-2.06-.94 2.06-2.06.94zm-11 1L8.5 8.5l.94-2.06 2.06-.94-2.06-.94L8.5 2.5l-.94 2.06-2.06.94zm10 10l.94 2.06.94-2.06 2.06-.94-2.06-.94-.94-2.06-.94 2.06-2.06.94z\"/><path d=\"M17.41 7.96l-1.37-1.37c-.4-.4-.92-.59-1.43-.59-.52 0-1.04.2-1.43.59L10.3 9.45l-7.72 7.72c-.78.78-.78 2.05 0 2.83L4 21.41c.39.39.9.59 1.41.59.51 0 1.02-.2 1.41-.59l7.78-7.78 2.81-2.81c.8-.78.8-2.07 0-2.86zM5.41 20L4 18.59l7.72-7.72 1.47 1.35L5.41 20z\"/>\n",
              "  </svg>\n",
              "      </button>\n",
              "      \n",
              "  <style>\n",
              "    .colab-df-container {\n",
              "      display:flex;\n",
              "      flex-wrap:wrap;\n",
              "      gap: 12px;\n",
              "    }\n",
              "\n",
              "    .colab-df-convert {\n",
              "      background-color: #E8F0FE;\n",
              "      border: none;\n",
              "      border-radius: 50%;\n",
              "      cursor: pointer;\n",
              "      display: none;\n",
              "      fill: #1967D2;\n",
              "      height: 32px;\n",
              "      padding: 0 0 0 0;\n",
              "      width: 32px;\n",
              "    }\n",
              "\n",
              "    .colab-df-convert:hover {\n",
              "      background-color: #E2EBFA;\n",
              "      box-shadow: 0px 1px 2px rgba(60, 64, 67, 0.3), 0px 1px 3px 1px rgba(60, 64, 67, 0.15);\n",
              "      fill: #174EA6;\n",
              "    }\n",
              "\n",
              "    [theme=dark] .colab-df-convert {\n",
              "      background-color: #3B4455;\n",
              "      fill: #D2E3FC;\n",
              "    }\n",
              "\n",
              "    [theme=dark] .colab-df-convert:hover {\n",
              "      background-color: #434B5C;\n",
              "      box-shadow: 0px 1px 3px 1px rgba(0, 0, 0, 0.15);\n",
              "      filter: drop-shadow(0px 1px 2px rgba(0, 0, 0, 0.3));\n",
              "      fill: #FFFFFF;\n",
              "    }\n",
              "  </style>\n",
              "\n",
              "      <script>\n",
              "        const buttonEl =\n",
              "          document.querySelector('#df-3faf8ca6-77b5-453c-8637-8b970a67716d button.colab-df-convert');\n",
              "        buttonEl.style.display =\n",
              "          google.colab.kernel.accessAllowed ? 'block' : 'none';\n",
              "\n",
              "        async function convertToInteractive(key) {\n",
              "          const element = document.querySelector('#df-3faf8ca6-77b5-453c-8637-8b970a67716d');\n",
              "          const dataTable =\n",
              "            await google.colab.kernel.invokeFunction('convertToInteractive',\n",
              "                                                     [key], {});\n",
              "          if (!dataTable) return;\n",
              "\n",
              "          const docLinkHtml = 'Like what you see? Visit the ' +\n",
              "            '<a target=\"_blank\" href=https://colab.research.google.com/notebooks/data_table.ipynb>data table notebook</a>'\n",
              "            + ' to learn more about interactive tables.';\n",
              "          element.innerHTML = '';\n",
              "          dataTable['output_type'] = 'display_data';\n",
              "          await google.colab.output.renderOutput(dataTable, element);\n",
              "          const docLink = document.createElement('div');\n",
              "          docLink.innerHTML = docLinkHtml;\n",
              "          element.appendChild(docLink);\n",
              "        }\n",
              "      </script>\n",
              "    </div>\n",
              "  </div>\n",
              "  "
            ]
          },
          "metadata": {},
          "execution_count": 15
        }
      ]
    },
    {
      "cell_type": "code",
      "source": [
        "# merge and select tweets with labeled accounts\n",
        "labeled_df = df.merge(label, left_on='screen_name', right_on='account', how='inner')"
      ],
      "metadata": {
        "id": "ea6zpqsyn1nC"
      },
      "execution_count": null,
      "outputs": []
    },
    {
      "cell_type": "code",
      "source": [
        "# use Tf-Idf to vectorize the tweet text\n",
        "TFVectorizer = sklearn.feature_extraction.text.TfidfVectorizer(max_df=100, min_df=2, stop_words='english', norm='l2')\n",
        "TFVects = TFVectorizer.fit_transform(labeled_df['text'])"
      ],
      "metadata": {
        "id": "DRihoZa150NI"
      },
      "execution_count": null,
      "outputs": []
    },
    {
      "cell_type": "code",
      "source": [
        "# split training and testing sets\n",
        "from sklearn.model_selection import train_test_split\n",
        "X_train, X_test, y_train, y_test = train_test_split(TFVects, labeled_df['number'], test_size=0.33, random_state=42)"
      ],
      "metadata": {
        "id": "etpanrha6SOT"
      },
      "execution_count": null,
      "outputs": []
    },
    {
      "cell_type": "code",
      "source": [
        "# use SMOTE method to oversample the minority classes, and balance the imbalanced dataset\n",
        "from imblearn.over_sampling import SMOTE\n",
        "sm = SMOTE(random_state=42)\n",
        "X_train, y_train = sm.fit_resample(X_train, y_train)"
      ],
      "metadata": {
        "id": "xHc4Kst1-MpB"
      },
      "execution_count": null,
      "outputs": []
    },
    {
      "cell_type": "code",
      "source": [
        "# random forest classifier\n",
        "from sklearn.ensemble import RandomForestClassifier\n",
        "rf = RandomForestClassifier(random_state=0)\n",
        "rf.fit(X_train, y_train)"
      ],
      "metadata": {
        "colab": {
          "base_uri": "https://localhost:8080/"
        },
        "id": "LOQNMmhP6Ykj",
        "outputId": "5abaa3e8-ce1d-4a8e-a578-20ea8f33f3d0"
      },
      "execution_count": null,
      "outputs": [
        {
          "output_type": "execute_result",
          "data": {
            "text/plain": [
              "RandomForestClassifier(random_state=0)"
            ]
          },
          "metadata": {},
          "execution_count": 47
        }
      ]
    },
    {
      "cell_type": "code",
      "source": [
        "rf.score(X_train, y_train)"
      ],
      "metadata": {
        "colab": {
          "base_uri": "https://localhost:8080/"
        },
        "id": "3L3vgZD36aAe",
        "outputId": "b5c9dee4-4dd5-492d-d0f9-c446fc74b309"
      },
      "execution_count": null,
      "outputs": [
        {
          "output_type": "execute_result",
          "data": {
            "text/plain": [
              "0.9825246710526315"
            ]
          },
          "metadata": {},
          "execution_count": 48
        }
      ]
    },
    {
      "cell_type": "code",
      "source": [
        "rf.score(X_test, y_test)"
      ],
      "metadata": {
        "colab": {
          "base_uri": "https://localhost:8080/"
        },
        "id": "XvkZSoKa6cvd",
        "outputId": "15bb34f1-99a0-4bce-e7df-7c09ee40c861"
      },
      "execution_count": null,
      "outputs": [
        {
          "output_type": "execute_result",
          "data": {
            "text/plain": [
              "0.7026338147833475"
            ]
          },
          "metadata": {},
          "execution_count": 49
        }
      ]
    },
    {
      "cell_type": "code",
      "source": [
        "# logistic regression\n",
        "from sklearn.linear_model import LogisticRegression\n",
        "lr = LogisticRegression(penalty='none')\n",
        "lr.fit(X_train, y_train)"
      ],
      "metadata": {
        "colab": {
          "base_uri": "https://localhost:8080/"
        },
        "id": "IskFMwCZ6fcP",
        "outputId": "e992582f-737a-41de-c3e6-1ba720a4e774"
      },
      "execution_count": null,
      "outputs": [
        {
          "output_type": "stream",
          "name": "stderr",
          "text": [
            "/usr/local/lib/python3.7/dist-packages/sklearn/linear_model/_logistic.py:818: ConvergenceWarning: lbfgs failed to converge (status=1):\n",
            "STOP: TOTAL NO. of ITERATIONS REACHED LIMIT.\n",
            "\n",
            "Increase the number of iterations (max_iter) or scale the data as shown in:\n",
            "    https://scikit-learn.org/stable/modules/preprocessing.html\n",
            "Please also refer to the documentation for alternative solver options:\n",
            "    https://scikit-learn.org/stable/modules/linear_model.html#logistic-regression\n",
            "  extra_warning_msg=_LOGISTIC_SOLVER_CONVERGENCE_MSG,\n"
          ]
        },
        {
          "output_type": "execute_result",
          "data": {
            "text/plain": [
              "LogisticRegression(penalty='none')"
            ]
          },
          "metadata": {},
          "execution_count": 50
        }
      ]
    },
    {
      "cell_type": "code",
      "source": [
        "lr.score(X_train, y_train)"
      ],
      "metadata": {
        "colab": {
          "base_uri": "https://localhost:8080/"
        },
        "id": "QkqiLrrQ6iBQ",
        "outputId": "70522932-0f3a-446c-8551-c5d2ccf203e7"
      },
      "execution_count": null,
      "outputs": [
        {
          "output_type": "execute_result",
          "data": {
            "text/plain": [
              "0.973889802631579"
            ]
          },
          "metadata": {},
          "execution_count": 51
        }
      ]
    },
    {
      "cell_type": "code",
      "source": [
        "lr.score(X_test, y_test)"
      ],
      "metadata": {
        "colab": {
          "base_uri": "https://localhost:8080/"
        },
        "id": "-sUhZvR46lQA",
        "outputId": "ef6d7f98-1af0-49ca-c9ce-7b5ba7f217e5"
      },
      "execution_count": null,
      "outputs": [
        {
          "output_type": "execute_result",
          "data": {
            "text/plain": [
              "0.7221750212404418"
            ]
          },
          "metadata": {},
          "execution_count": 52
        }
      ]
    },
    {
      "cell_type": "code",
      "source": [
        "# SVC\n",
        "from sklearn.svm import SVC\n",
        "svm = SVC()\n",
        "svm.fit(X_train, y_train)"
      ],
      "metadata": {
        "colab": {
          "base_uri": "https://localhost:8080/"
        },
        "id": "2gYi9Nsm7Z_2",
        "outputId": "9464a0d5-0b67-4156-d307-43bb03a225d4"
      },
      "execution_count": null,
      "outputs": [
        {
          "output_type": "execute_result",
          "data": {
            "text/plain": [
              "SVC()"
            ]
          },
          "metadata": {},
          "execution_count": 53
        }
      ]
    },
    {
      "cell_type": "code",
      "source": [
        "svm.score(X_train, y_train)"
      ],
      "metadata": {
        "colab": {
          "base_uri": "https://localhost:8080/"
        },
        "id": "QOVe4Tfn7b7T",
        "outputId": "5326fba3-739c-45ad-d491-c5a962d391ca"
      },
      "execution_count": null,
      "outputs": [
        {
          "output_type": "execute_result",
          "data": {
            "text/plain": [
              "0.9385279605263158"
            ]
          },
          "metadata": {},
          "execution_count": 54
        }
      ]
    },
    {
      "cell_type": "code",
      "source": [
        "svm.score(X_test, y_test)"
      ],
      "metadata": {
        "colab": {
          "base_uri": "https://localhost:8080/"
        },
        "id": "eLUm9Zte7ebJ",
        "outputId": "5e12ac92-b073-4a61-bb65-376ae2f04b8d"
      },
      "execution_count": null,
      "outputs": [
        {
          "output_type": "execute_result",
          "data": {
            "text/plain": [
              "0.7094307561597282"
            ]
          },
          "metadata": {},
          "execution_count": 55
        }
      ]
    },
    {
      "cell_type": "code",
      "source": [
        "# MultinomialNB\n",
        "from sklearn.naive_bayes import MultinomialNB\n",
        "mnb = MultinomialNB()\n",
        "mnb.fit(X_train, y_train)"
      ],
      "metadata": {
        "colab": {
          "base_uri": "https://localhost:8080/"
        },
        "id": "0JxS3GCv7flo",
        "outputId": "88f212ca-16f6-44e5-9c49-9b56a945bef8"
      },
      "execution_count": null,
      "outputs": [
        {
          "output_type": "execute_result",
          "data": {
            "text/plain": [
              "MultinomialNB()"
            ]
          },
          "metadata": {},
          "execution_count": 56
        }
      ]
    },
    {
      "cell_type": "code",
      "source": [
        "mnb.score(X_train, y_train)"
      ],
      "metadata": {
        "colab": {
          "base_uri": "https://localhost:8080/"
        },
        "id": "k3mZDN557kDs",
        "outputId": "8f4fcc48-4205-4ed6-a02f-d1cefaa49091"
      },
      "execution_count": null,
      "outputs": [
        {
          "output_type": "execute_result",
          "data": {
            "text/plain": [
              "0.9276315789473685"
            ]
          },
          "metadata": {},
          "execution_count": 57
        }
      ]
    },
    {
      "cell_type": "code",
      "source": [
        "mnb.score(X_test, y_test)"
      ],
      "metadata": {
        "colab": {
          "base_uri": "https://localhost:8080/"
        },
        "id": "j7CnYbsS7le-",
        "outputId": "59fc3ec6-31cb-404d-88ef-52a95edf8547"
      },
      "execution_count": null,
      "outputs": [
        {
          "output_type": "execute_result",
          "data": {
            "text/plain": [
              "0.6771452846219201"
            ]
          },
          "metadata": {},
          "execution_count": 58
        }
      ]
    },
    {
      "cell_type": "code",
      "source": [
        "# plot the confusion matricies\n",
        "fig, axes = plt.subplots(nrows=2, ncols=2, figsize=(15,10))\n",
        "\n",
        "classifiers = [rf, lr, svm, mnb]\n",
        "\n",
        "count = 0\n",
        "for cls, ax in zip(classifiers, axes.flatten()):\n",
        "    if count == len(classifiers):\n",
        "        break\n",
        "\n",
        "    plot_confusion_matrix(cls, \n",
        "                          X_test, \n",
        "                          y_test, \n",
        "                          ax=ax)\n",
        "    ax.title.set_text(type(cls).__name__)\n",
        "    count += 1\n",
        "plt.tight_layout()  \n",
        "plt.show()"
      ],
      "metadata": {
        "colab": {
          "base_uri": "https://localhost:8080/",
          "height": 729
        },
        "id": "0SVbQ2el7ot4",
        "outputId": "92ca61df-6df7-42de-eef6-749adac42792"
      },
      "execution_count": null,
      "outputs": [
        {
          "output_type": "display_data",
          "data": {
            "text/plain": [
              "<Figure size 1080x720 with 8 Axes>"
            ],
            "image/png": "[encoded data removed]"
          },
          "metadata": {
            "needs_background": "light"
          }
        }
      ]
    },
    {
      "cell_type": "code",
      "source": [
        "# plot the accuracy scores for the training and testing sets\n",
        "import matplotlib.pyplot as plt\n",
        "\n",
        "scores_train = [0.9825246710526315, 0.973889802631579, 0.9385279605263158, 0.9276315789473685]\n",
        "scores_test = [0.7026338147833475, 0.7221750212404418, 0.7094307561597282, 0.6771452846219201]\n",
        "X = ['RF', 'LR', 'SVM', 'NB']\n",
        "\n",
        "X_axis = np.arange(len(X))\n",
        "\n",
        "plt.figure(dpi = 120)\n",
        "plt.bar(X_axis - 0.2, scores_train, 0.4, label=\"Training Set\")\n",
        "plt.bar(X_axis + 0.2, scores_test, 0.4, label=\"Testing Set\")\n",
        "plt.xticks(X_axis, X)\n",
        "plt.title(\"Different Models' Performance\")\n",
        "plt.xlabel('Classifiers')\n",
        "plt.ylabel('Accuracy Scores')\n",
        "plt.legend()\n",
        "plt.savefig('accuracy')"
      ],
      "metadata": {
        "colab": {
          "base_uri": "https://localhost:8080/",
          "height": 482
        },
        "id": "F4UGqfSWAoKg",
        "outputId": "831317a4-bf6e-4a57-c5c9-7e8a39cd9820"
      },
      "execution_count": null,
      "outputs": [
        {
          "output_type": "display_data",
          "data": {
            "text/plain": [
              "<Figure size 720x480 with 1 Axes>"
            ],
            "image/png": "[encoded data removed]"
          },
          "metadata": {
            "needs_background": "light"
          }
        }
      ]
    }
  ],
  "metadata": {
    "colab": {
      "name": "analysis.ipynb",
      "provenance": [],
      "collapsed_sections": [],
      "include_colab_link": true
    },
    "kernelspec": {
      "display_name": "Python 3 (ipykernel)",
      "language": "python",
      "name": "python3"
    },
    "language_info": {
      "codemirror_mode": {
        "name": "ipython",
        "version": 3
      },
      "file_extension": ".py",
      "mimetype": "text/x-python",
      "name": "python",
      "nbconvert_exporter": "python",
      "pygments_lexer": "ipython3",
      "version": "3.7.11"
    },
    "accelerator": "GPU"
  },
  "nbformat": 4,
  "nbformat_minor": 0
}